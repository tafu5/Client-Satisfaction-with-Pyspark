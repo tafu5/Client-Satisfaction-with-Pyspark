{
 "cells": [
  {
   "cell_type": "markdown",
   "id": "5a588340-4839-4b67-acbd-37d75a5c90ec",
   "metadata": {
    "tags": []
   },
   "source": [
    "# Client Satisfaction\n",
    "\n",
    "- Goal: The objective of the work are:\n",
    "    - To reduce the number of columns of the dataset \n",
    "    - Predict insatisfied clients\n",
    "- Framework: Pyspark\n",
    "- Column to predict: \"TARGET\" where 0 represents a satisfied client and 1 insatisfied client"
   ]
  },
  {
   "cell_type": "code",
   "execution_count": 1,
   "id": "86935c01",
   "metadata": {
    "scrolled": true,
    "tags": []
   },
   "outputs": [
    {
     "name": "stderr",
     "output_type": "stream",
     "text": [
      "22/11/04 10:54:30 WARN Utils: Your hostname, MacBook-Pro-de-Valentin.local resolves to a loopback address: 127.0.0.1; using 192.168.1.37 instead (on interface en0)\n",
      "22/11/04 10:54:30 WARN Utils: Set SPARK_LOCAL_IP if you need to bind to another address\n",
      "WARNING: An illegal reflective access operation has occurred\n",
      "WARNING: Illegal reflective access by org.apache.spark.unsafe.Platform (file:/opt/anaconda3/envs/valentin_python/lib/python3.9/site-packages/pyspark/jars/spark-unsafe_2.12-3.1.2.jar) to constructor java.nio.DirectByteBuffer(long,int)\n",
      "WARNING: Please consider reporting this to the maintainers of org.apache.spark.unsafe.Platform\n",
      "WARNING: Use --illegal-access=warn to enable warnings of further illegal reflective access operations\n",
      "WARNING: All illegal access operations will be denied in a future release\n",
      "22/11/04 10:54:31 WARN NativeCodeLoader: Unable to load native-hadoop library for your platform... using builtin-java classes where applicable\n",
      "Using Spark's default log4j profile: org/apache/spark/log4j-defaults.properties\n",
      "Setting default log level to \"WARN\".\n",
      "To adjust logging level use sc.setLogLevel(newLevel). For SparkR, use setLogLevel(newLevel).\n"
     ]
    }
   ],
   "source": [
    "from pyspark import SparkContext\n",
    "\n",
    "sc = SparkContext('local[*]', 'Santander_Client_Satisfaction_sc')\n",
    "sc.setLogLevel('OFF')"
   ]
  },
  {
   "cell_type": "code",
   "execution_count": 2,
   "id": "d74e781e",
   "metadata": {},
   "outputs": [
    {
     "data": {
      "text/html": [
       "\n",
       "            <div>\n",
       "                <p><b>SparkSession - in-memory</b></p>\n",
       "                \n",
       "        <div>\n",
       "            <p><b>SparkContext</b></p>\n",
       "\n",
       "            <p><a href=\"http://192.168.1.37:4040\">Spark UI</a></p>\n",
       "\n",
       "            <dl>\n",
       "              <dt>Version</dt>\n",
       "                <dd><code>v3.1.2</code></dd>\n",
       "              <dt>Master</dt>\n",
       "                <dd><code>local[*]</code></dd>\n",
       "              <dt>AppName</dt>\n",
       "                <dd><code>Santander_Client_Satisfaction_sc</code></dd>\n",
       "            </dl>\n",
       "        </div>\n",
       "        \n",
       "            </div>\n",
       "        "
      ],
      "text/plain": [
       "<pyspark.sql.session.SparkSession at 0x7f9f841efd00>"
      ]
     },
     "execution_count": 2,
     "metadata": {},
     "output_type": "execute_result"
    }
   ],
   "source": [
    "from pyspark.sql import SparkSession\n",
    "\n",
    "spark = SparkSession.builder.appName('Santander Client Satisfaction_ss').getOrCreate()\n",
    "#spark.sparkContext.setLogLevel(\"OFF\")\n",
    "spark.conf.set(\"spark.sql.shuffle.partitions\",2)\n",
    "\n",
    "spark"
   ]
  },
  {
   "cell_type": "markdown",
   "id": "dcf7a054-1ee6-4562-8fa1-7de9e451926c",
   "metadata": {},
   "source": [
    "## Functions"
   ]
  },
  {
   "cell_type": "code",
   "execution_count": 3,
   "id": "3e406450",
   "metadata": {},
   "outputs": [],
   "source": [
    "\n",
    "#Outlier detection and imputation by the mode\n",
    "import pyspark.sql.functions as F\n",
    "\n",
    "def outliers_detect(column):\n",
    "    data.approxQuantile(column,[0.25,0.5,0.75],0.05)\n",
    "    \n",
    "    quantile = data.approxQuantile(column,[0.25,0.5,0.75],0.05)\n",
    "\n",
    "    \n",
    "    q1 = quantile[0]\n",
    "    median = quantile[1]\n",
    "    q3 = quantile[2]\n",
    "\n",
    "    iqr = q3 - q1\n",
    "\n",
    "    minimum = q1 - 1.5*iqr\n",
    "    maximum = q3 + 1.5*iqr\n",
    "    \n",
    "    bounds = [minimum,median,maximum]\n",
    "    return(bounds)"
   ]
  },
  {
   "cell_type": "markdown",
   "id": "dbff6f93-e461-4fc7-9d6d-9443b8749e7e",
   "metadata": {},
   "source": [
    "## Data\n",
    "\n",
    "The data comes from the Santander bank that contains anonymous features about its customers that will be used to detect dissatisfied customers.\n",
    "\n",
    "The data is already split in training and testing"
   ]
  },
  {
   "cell_type": "code",
   "execution_count": 4,
   "id": "fb72a6aa-2e32-4731-9396-4604536835a3",
   "metadata": {},
   "outputs": [
    {
     "name": "stderr",
     "output_type": "stream",
     "text": [
      "                                                                                \r"
     ]
    }
   ],
   "source": [
    "#Testing data features\n",
    "test = spark.read.csv('/Users/user/Desktop/Data Scientis R Python SQL/Datasets/Santander/test.csv',\n",
    "                      header=True,\n",
    "                      inferSchema=True)\n",
    "\n",
    "#Testing target\n",
    "test_target = spark.read.csv('/Users/user/Desktop/Data Scientis R Python SQL/Datasets/Santander/test_target.csv',\n",
    "                      header=True,\n",
    "                      inferSchema=True)"
   ]
  },
  {
   "cell_type": "code",
   "execution_count": 5,
   "id": "ece37085",
   "metadata": {
    "tags": []
   },
   "outputs": [
    {
     "name": "stderr",
     "output_type": "stream",
     "text": [
      "[Stage 5:=======>                                                   (1 + 7) / 8]\r"
     ]
    },
    {
     "name": "stdout",
     "output_type": "stream",
     "text": [
      "root\n",
      " |-- ID: integer (nullable = true)\n",
      " |-- var3: integer (nullable = true)\n",
      " |-- var15: integer (nullable = true)\n",
      " |-- imp_ent_var16_ult1: double (nullable = true)\n",
      " |-- imp_op_var39_comer_ult1: double (nullable = true)\n",
      " |-- imp_op_var39_comer_ult3: double (nullable = true)\n",
      " |-- imp_op_var40_comer_ult1: double (nullable = true)\n",
      " |-- imp_op_var40_comer_ult3: double (nullable = true)\n",
      " |-- imp_op_var40_efect_ult1: double (nullable = true)\n",
      " |-- imp_op_var40_efect_ult3: double (nullable = true)\n",
      " |-- imp_op_var40_ult1: double (nullable = true)\n",
      " |-- imp_op_var41_comer_ult1: double (nullable = true)\n",
      " |-- imp_op_var41_comer_ult3: double (nullable = true)\n",
      " |-- imp_op_var41_efect_ult1: double (nullable = true)\n",
      " |-- imp_op_var41_efect_ult3: double (nullable = true)\n",
      " |-- imp_op_var41_ult1: double (nullable = true)\n",
      " |-- imp_op_var39_efect_ult1: double (nullable = true)\n",
      " |-- imp_op_var39_efect_ult3: double (nullable = true)\n",
      " |-- imp_op_var39_ult1: double (nullable = true)\n",
      " |-- imp_sal_var16_ult1: double (nullable = true)\n",
      " |-- ind_var1_0: integer (nullable = true)\n",
      " |-- ind_var1: integer (nullable = true)\n",
      " |-- ind_var2_0: integer (nullable = true)\n",
      " |-- ind_var2: integer (nullable = true)\n",
      " |-- ind_var5_0: integer (nullable = true)\n",
      " |-- ind_var5: integer (nullable = true)\n",
      " |-- ind_var6_0: integer (nullable = true)\n",
      " |-- ind_var6: integer (nullable = true)\n",
      " |-- ind_var8_0: integer (nullable = true)\n",
      " |-- ind_var8: integer (nullable = true)\n",
      " |-- ind_var12_0: integer (nullable = true)\n",
      " |-- ind_var12: integer (nullable = true)\n",
      " |-- ind_var13_0: integer (nullable = true)\n",
      " |-- ind_var13_corto_0: integer (nullable = true)\n",
      " |-- ind_var13_corto: integer (nullable = true)\n",
      " |-- ind_var13_largo_0: integer (nullable = true)\n",
      " |-- ind_var13_largo: integer (nullable = true)\n",
      " |-- ind_var13_medio_0: integer (nullable = true)\n",
      " |-- ind_var13_medio: integer (nullable = true)\n",
      " |-- ind_var13: integer (nullable = true)\n",
      " |-- ind_var14_0: integer (nullable = true)\n",
      " |-- ind_var14: integer (nullable = true)\n",
      " |-- ind_var17_0: integer (nullable = true)\n",
      " |-- ind_var17: integer (nullable = true)\n",
      " |-- ind_var18_0: integer (nullable = true)\n",
      " |-- ind_var18: integer (nullable = true)\n",
      " |-- ind_var19: integer (nullable = true)\n",
      " |-- ind_var20_0: integer (nullable = true)\n",
      " |-- ind_var20: integer (nullable = true)\n",
      " |-- ind_var24_0: integer (nullable = true)\n",
      " |-- ind_var24: integer (nullable = true)\n",
      " |-- ind_var25_cte: integer (nullable = true)\n",
      " |-- ind_var26_0: integer (nullable = true)\n",
      " |-- ind_var26_cte: integer (nullable = true)\n",
      " |-- ind_var26: integer (nullable = true)\n",
      " |-- ind_var25_0: integer (nullable = true)\n",
      " |-- ind_var25: integer (nullable = true)\n",
      " |-- ind_var27_0: integer (nullable = true)\n",
      " |-- ind_var28_0: integer (nullable = true)\n",
      " |-- ind_var28: integer (nullable = true)\n",
      " |-- ind_var27: integer (nullable = true)\n",
      " |-- ind_var29_0: integer (nullable = true)\n",
      " |-- ind_var29: integer (nullable = true)\n",
      " |-- ind_var30_0: integer (nullable = true)\n",
      " |-- ind_var30: integer (nullable = true)\n",
      " |-- ind_var31_0: integer (nullable = true)\n",
      " |-- ind_var31: integer (nullable = true)\n",
      " |-- ind_var32_cte: integer (nullable = true)\n",
      " |-- ind_var32_0: integer (nullable = true)\n",
      " |-- ind_var32: integer (nullable = true)\n",
      " |-- ind_var33_0: integer (nullable = true)\n",
      " |-- ind_var33: integer (nullable = true)\n",
      " |-- ind_var34_0: integer (nullable = true)\n",
      " |-- ind_var34: integer (nullable = true)\n",
      " |-- ind_var37_cte: integer (nullable = true)\n",
      " |-- ind_var37_0: integer (nullable = true)\n",
      " |-- ind_var37: integer (nullable = true)\n",
      " |-- ind_var39_0: integer (nullable = true)\n",
      " |-- ind_var40_0: integer (nullable = true)\n",
      " |-- ind_var40: integer (nullable = true)\n",
      " |-- ind_var41_0: integer (nullable = true)\n",
      " |-- ind_var41: integer (nullable = true)\n",
      " |-- ind_var39: integer (nullable = true)\n",
      " |-- ind_var44_0: integer (nullable = true)\n",
      " |-- ind_var44: integer (nullable = true)\n",
      " |-- ind_var46_0: integer (nullable = true)\n",
      " |-- ind_var46: integer (nullable = true)\n",
      " |-- num_var1_0: integer (nullable = true)\n",
      " |-- num_var1: integer (nullable = true)\n",
      " |-- num_var4: integer (nullable = true)\n",
      " |-- num_var5_0: integer (nullable = true)\n",
      " |-- num_var5: integer (nullable = true)\n",
      " |-- num_var6_0: integer (nullable = true)\n",
      " |-- num_var6: integer (nullable = true)\n",
      " |-- num_var8_0: integer (nullable = true)\n",
      " |-- num_var8: integer (nullable = true)\n",
      " |-- num_var12_0: integer (nullable = true)\n",
      " |-- num_var12: integer (nullable = true)\n",
      " |-- num_var13_0: integer (nullable = true)\n",
      " |-- num_var13_corto_0: integer (nullable = true)\n",
      " |-- num_var13_corto: integer (nullable = true)\n",
      " |-- num_var13_largo_0: integer (nullable = true)\n",
      " |-- num_var13_largo: integer (nullable = true)\n",
      " |-- num_var13_medio_0: integer (nullable = true)\n",
      " |-- num_var13_medio: integer (nullable = true)\n",
      " |-- num_var13: integer (nullable = true)\n",
      " |-- num_var14_0: integer (nullable = true)\n",
      " |-- num_var14: integer (nullable = true)\n",
      " |-- num_var17_0: integer (nullable = true)\n",
      " |-- num_var17: integer (nullable = true)\n",
      " |-- num_var18_0: integer (nullable = true)\n",
      " |-- num_var18: integer (nullable = true)\n",
      " |-- num_var20_0: integer (nullable = true)\n",
      " |-- num_var20: integer (nullable = true)\n",
      " |-- num_var24_0: integer (nullable = true)\n",
      " |-- num_var24: integer (nullable = true)\n",
      " |-- num_var26_0: integer (nullable = true)\n",
      " |-- num_var26: integer (nullable = true)\n",
      " |-- num_var25_0: integer (nullable = true)\n",
      " |-- num_var25: integer (nullable = true)\n",
      " |-- num_op_var40_hace2: integer (nullable = true)\n",
      " |-- num_op_var40_hace3: integer (nullable = true)\n",
      " |-- num_op_var40_ult1: integer (nullable = true)\n",
      " |-- num_op_var40_ult3: integer (nullable = true)\n",
      " |-- num_op_var41_hace2: integer (nullable = true)\n",
      " |-- num_op_var41_hace3: integer (nullable = true)\n",
      " |-- num_op_var41_ult1: integer (nullable = true)\n",
      " |-- num_op_var41_ult3: integer (nullable = true)\n",
      " |-- num_op_var39_hace2: integer (nullable = true)\n",
      " |-- num_op_var39_hace3: integer (nullable = true)\n",
      " |-- num_op_var39_ult1: integer (nullable = true)\n",
      " |-- num_op_var39_ult3: integer (nullable = true)\n",
      " |-- num_var27_0: integer (nullable = true)\n",
      " |-- num_var28_0: integer (nullable = true)\n",
      " |-- num_var28: integer (nullable = true)\n",
      " |-- num_var27: integer (nullable = true)\n",
      " |-- num_var29_0: integer (nullable = true)\n",
      " |-- num_var29: integer (nullable = true)\n",
      " |-- num_var30_0: integer (nullable = true)\n",
      " |-- num_var30: integer (nullable = true)\n",
      " |-- num_var31_0: integer (nullable = true)\n",
      " |-- num_var31: integer (nullable = true)\n",
      " |-- num_var32_0: integer (nullable = true)\n",
      " |-- num_var32: integer (nullable = true)\n",
      " |-- num_var33_0: integer (nullable = true)\n",
      " |-- num_var33: integer (nullable = true)\n",
      " |-- num_var34_0: integer (nullable = true)\n",
      " |-- num_var34: integer (nullable = true)\n",
      " |-- num_var35: integer (nullable = true)\n",
      " |-- num_var37_med_ult2: integer (nullable = true)\n",
      " |-- num_var37_0: integer (nullable = true)\n",
      " |-- num_var37: integer (nullable = true)\n",
      " |-- num_var39_0: integer (nullable = true)\n",
      " |-- num_var40_0: integer (nullable = true)\n",
      " |-- num_var40: integer (nullable = true)\n",
      " |-- num_var41_0: integer (nullable = true)\n",
      " |-- num_var41: integer (nullable = true)\n",
      " |-- num_var39: integer (nullable = true)\n",
      " |-- num_var42_0: integer (nullable = true)\n",
      " |-- num_var42: integer (nullable = true)\n",
      " |-- num_var44_0: integer (nullable = true)\n",
      " |-- num_var44: integer (nullable = true)\n",
      " |-- num_var46_0: integer (nullable = true)\n",
      " |-- num_var46: integer (nullable = true)\n",
      " |-- saldo_var1: double (nullable = true)\n",
      " |-- saldo_var5: double (nullable = true)\n",
      " |-- saldo_var6: double (nullable = true)\n",
      " |-- saldo_var8: double (nullable = true)\n",
      " |-- saldo_var12: double (nullable = true)\n",
      " |-- saldo_var13_corto: double (nullable = true)\n",
      " |-- saldo_var13_largo: double (nullable = true)\n",
      " |-- saldo_var13_medio: integer (nullable = true)\n",
      " |-- saldo_var13: double (nullable = true)\n",
      " |-- saldo_var14: double (nullable = true)\n",
      " |-- saldo_var17: double (nullable = true)\n",
      " |-- saldo_var18: integer (nullable = true)\n",
      " |-- saldo_var20: double (nullable = true)\n",
      " |-- saldo_var24: double (nullable = true)\n",
      " |-- saldo_var26: double (nullable = true)\n",
      " |-- saldo_var25: double (nullable = true)\n",
      " |-- saldo_var28: integer (nullable = true)\n",
      " |-- saldo_var27: integer (nullable = true)\n",
      " |-- saldo_var29: double (nullable = true)\n",
      " |-- saldo_var30: double (nullable = true)\n",
      " |-- saldo_var31: double (nullable = true)\n",
      " |-- saldo_var32: double (nullable = true)\n",
      " |-- saldo_var33: double (nullable = true)\n",
      " |-- saldo_var34: integer (nullable = true)\n",
      " |-- saldo_var37: double (nullable = true)\n",
      " |-- saldo_var40: double (nullable = true)\n",
      " |-- saldo_var41: integer (nullable = true)\n",
      " |-- saldo_var42: double (nullable = true)\n",
      " |-- saldo_var44: double (nullable = true)\n",
      " |-- saldo_var46: integer (nullable = true)\n",
      " |-- var36: integer (nullable = true)\n",
      " |-- delta_imp_amort_var18_1y3: long (nullable = true)\n",
      " |-- delta_imp_amort_var34_1y3: long (nullable = true)\n",
      " |-- delta_imp_aport_var13_1y3: double (nullable = true)\n",
      " |-- delta_imp_aport_var17_1y3: double (nullable = true)\n",
      " |-- delta_imp_aport_var33_1y3: double (nullable = true)\n",
      " |-- delta_imp_compra_var44_1y3: double (nullable = true)\n",
      " |-- delta_imp_reemb_var13_1y3: long (nullable = true)\n",
      " |-- delta_imp_reemb_var17_1y3: long (nullable = true)\n",
      " |-- delta_imp_reemb_var33_1y3: long (nullable = true)\n",
      " |-- delta_imp_trasp_var17_in_1y3: long (nullable = true)\n",
      " |-- delta_imp_trasp_var17_out_1y3: long (nullable = true)\n",
      " |-- delta_imp_trasp_var33_in_1y3: long (nullable = true)\n",
      " |-- delta_imp_trasp_var33_out_1y3: long (nullable = true)\n",
      " |-- delta_imp_venta_var44_1y3: double (nullable = true)\n",
      " |-- delta_num_aport_var13_1y3: double (nullable = true)\n",
      " |-- delta_num_aport_var17_1y3: double (nullable = true)\n",
      " |-- delta_num_aport_var33_1y3: double (nullable = true)\n",
      " |-- delta_num_compra_var44_1y3: double (nullable = true)\n",
      " |-- delta_num_reemb_var13_1y3: long (nullable = true)\n",
      " |-- delta_num_reemb_var17_1y3: long (nullable = true)\n",
      " |-- delta_num_reemb_var33_1y3: long (nullable = true)\n",
      " |-- delta_num_trasp_var17_in_1y3: long (nullable = true)\n",
      " |-- delta_num_trasp_var17_out_1y3: long (nullable = true)\n",
      " |-- delta_num_trasp_var33_in_1y3: long (nullable = true)\n",
      " |-- delta_num_trasp_var33_out_1y3: long (nullable = true)\n",
      " |-- delta_num_venta_var44_1y3: double (nullable = true)\n",
      " |-- imp_amort_var18_hace3: integer (nullable = true)\n",
      " |-- imp_amort_var18_ult1: double (nullable = true)\n",
      " |-- imp_amort_var34_hace3: integer (nullable = true)\n",
      " |-- imp_amort_var34_ult1: double (nullable = true)\n",
      " |-- imp_aport_var13_hace3: double (nullable = true)\n",
      " |-- imp_aport_var13_ult1: double (nullable = true)\n",
      " |-- imp_aport_var17_hace3: double (nullable = true)\n",
      " |-- imp_aport_var17_ult1: double (nullable = true)\n",
      " |-- imp_aport_var33_hace3: integer (nullable = true)\n",
      " |-- imp_aport_var33_ult1: integer (nullable = true)\n",
      " |-- imp_var7_emit_ult1: double (nullable = true)\n",
      " |-- imp_var7_recib_ult1: double (nullable = true)\n",
      " |-- imp_compra_var44_hace3: double (nullable = true)\n",
      " |-- imp_compra_var44_ult1: double (nullable = true)\n",
      " |-- imp_reemb_var13_hace3: integer (nullable = true)\n",
      " |-- imp_reemb_var13_ult1: double (nullable = true)\n",
      " |-- imp_reemb_var17_hace3: double (nullable = true)\n",
      " |-- imp_reemb_var17_ult1: double (nullable = true)\n",
      " |-- imp_reemb_var33_hace3: integer (nullable = true)\n",
      " |-- imp_reemb_var33_ult1: integer (nullable = true)\n",
      " |-- imp_var43_emit_ult1: double (nullable = true)\n",
      " |-- imp_trans_var37_ult1: double (nullable = true)\n",
      " |-- imp_trasp_var17_in_hace3: double (nullable = true)\n",
      " |-- imp_trasp_var17_in_ult1: double (nullable = true)\n",
      " |-- imp_trasp_var17_out_hace3: integer (nullable = true)\n",
      " |-- imp_trasp_var17_out_ult1: double (nullable = true)\n",
      " |-- imp_trasp_var33_in_hace3: double (nullable = true)\n",
      " |-- imp_trasp_var33_in_ult1: double (nullable = true)\n",
      " |-- imp_trasp_var33_out_hace3: integer (nullable = true)\n",
      " |-- imp_trasp_var33_out_ult1: integer (nullable = true)\n",
      " |-- imp_venta_var44_hace3: double (nullable = true)\n",
      " |-- imp_venta_var44_ult1: double (nullable = true)\n",
      " |-- ind_var7_emit_ult1: integer (nullable = true)\n",
      " |-- ind_var7_recib_ult1: integer (nullable = true)\n",
      " |-- ind_var10_ult1: integer (nullable = true)\n",
      " |-- ind_var10cte_ult1: integer (nullable = true)\n",
      " |-- ind_var9_cte_ult1: integer (nullable = true)\n",
      " |-- ind_var9_ult1: integer (nullable = true)\n",
      " |-- ind_var43_emit_ult1: integer (nullable = true)\n",
      " |-- ind_var43_recib_ult1: integer (nullable = true)\n",
      " |-- var21: integer (nullable = true)\n",
      " |-- num_var2_0_ult1: integer (nullable = true)\n",
      " |-- num_var2_ult1: integer (nullable = true)\n",
      " |-- num_aport_var13_hace3: integer (nullable = true)\n",
      " |-- num_aport_var13_ult1: integer (nullable = true)\n",
      " |-- num_aport_var17_hace3: integer (nullable = true)\n",
      " |-- num_aport_var17_ult1: integer (nullable = true)\n",
      " |-- num_aport_var33_hace3: integer (nullable = true)\n",
      " |-- num_aport_var33_ult1: integer (nullable = true)\n",
      " |-- num_var7_emit_ult1: integer (nullable = true)\n",
      " |-- num_var7_recib_ult1: integer (nullable = true)\n",
      " |-- num_compra_var44_hace3: integer (nullable = true)\n",
      " |-- num_compra_var44_ult1: integer (nullable = true)\n",
      " |-- num_ent_var16_ult1: integer (nullable = true)\n",
      " |-- num_var22_hace2: integer (nullable = true)\n",
      " |-- num_var22_hace3: integer (nullable = true)\n",
      " |-- num_var22_ult1: integer (nullable = true)\n",
      " |-- num_var22_ult3: integer (nullable = true)\n",
      " |-- num_med_var22_ult3: integer (nullable = true)\n",
      " |-- num_med_var45_ult3: integer (nullable = true)\n",
      " |-- num_meses_var5_ult3: integer (nullable = true)\n",
      " |-- num_meses_var8_ult3: integer (nullable = true)\n",
      " |-- num_meses_var12_ult3: integer (nullable = true)\n",
      " |-- num_meses_var13_corto_ult3: integer (nullable = true)\n",
      " |-- num_meses_var13_largo_ult3: integer (nullable = true)\n",
      " |-- num_meses_var13_medio_ult3: integer (nullable = true)\n",
      " |-- num_meses_var17_ult3: integer (nullable = true)\n",
      " |-- num_meses_var29_ult3: integer (nullable = true)\n",
      " |-- num_meses_var33_ult3: integer (nullable = true)\n",
      " |-- num_meses_var39_vig_ult3: integer (nullable = true)\n",
      " |-- num_meses_var44_ult3: integer (nullable = true)\n",
      " |-- num_op_var39_comer_ult1: integer (nullable = true)\n",
      " |-- num_op_var39_comer_ult3: integer (nullable = true)\n",
      " |-- num_op_var40_comer_ult1: integer (nullable = true)\n",
      " |-- num_op_var40_comer_ult3: integer (nullable = true)\n",
      " |-- num_op_var40_efect_ult1: integer (nullable = true)\n",
      " |-- num_op_var40_efect_ult3: integer (nullable = true)\n",
      " |-- num_op_var41_comer_ult1: integer (nullable = true)\n",
      " |-- num_op_var41_comer_ult3: integer (nullable = true)\n",
      " |-- num_op_var41_efect_ult1: integer (nullable = true)\n",
      " |-- num_op_var41_efect_ult3: integer (nullable = true)\n",
      " |-- num_op_var39_efect_ult1: integer (nullable = true)\n",
      " |-- num_op_var39_efect_ult3: integer (nullable = true)\n",
      " |-- num_reemb_var13_hace3: integer (nullable = true)\n",
      " |-- num_reemb_var13_ult1: integer (nullable = true)\n",
      " |-- num_reemb_var17_hace3: integer (nullable = true)\n",
      " |-- num_reemb_var17_ult1: integer (nullable = true)\n",
      " |-- num_reemb_var33_hace3: integer (nullable = true)\n",
      " |-- num_reemb_var33_ult1: integer (nullable = true)\n",
      " |-- num_sal_var16_ult1: integer (nullable = true)\n",
      " |-- num_var43_emit_ult1: integer (nullable = true)\n",
      " |-- num_var43_recib_ult1: integer (nullable = true)\n",
      " |-- num_trasp_var11_ult1: integer (nullable = true)\n",
      " |-- num_trasp_var17_in_hace3: integer (nullable = true)\n",
      " |-- num_trasp_var17_in_ult1: integer (nullable = true)\n",
      " |-- num_trasp_var17_out_hace3: integer (nullable = true)\n",
      " |-- num_trasp_var17_out_ult1: integer (nullable = true)\n",
      " |-- num_trasp_var33_in_hace3: integer (nullable = true)\n",
      " |-- num_trasp_var33_in_ult1: integer (nullable = true)\n",
      " |-- num_trasp_var33_out_hace3: integer (nullable = true)\n",
      " |-- num_trasp_var33_out_ult1: integer (nullable = true)\n",
      " |-- num_venta_var44_hace3: integer (nullable = true)\n",
      " |-- num_venta_var44_ult1: integer (nullable = true)\n",
      " |-- num_var45_hace2: integer (nullable = true)\n",
      " |-- num_var45_hace3: integer (nullable = true)\n",
      " |-- num_var45_ult1: integer (nullable = true)\n",
      " |-- num_var45_ult3: integer (nullable = true)\n",
      " |-- saldo_var2_ult1: integer (nullable = true)\n",
      " |-- saldo_medio_var5_hace2: double (nullable = true)\n",
      " |-- saldo_medio_var5_hace3: double (nullable = true)\n",
      " |-- saldo_medio_var5_ult1: double (nullable = true)\n",
      " |-- saldo_medio_var5_ult3: double (nullable = true)\n",
      " |-- saldo_medio_var8_hace2: double (nullable = true)\n",
      " |-- saldo_medio_var8_hace3: double (nullable = true)\n",
      " |-- saldo_medio_var8_ult1: double (nullable = true)\n",
      " |-- saldo_medio_var8_ult3: double (nullable = true)\n",
      " |-- saldo_medio_var12_hace2: double (nullable = true)\n",
      " |-- saldo_medio_var12_hace3: double (nullable = true)\n",
      " |-- saldo_medio_var12_ult1: double (nullable = true)\n",
      " |-- saldo_medio_var12_ult3: double (nullable = true)\n",
      " |-- saldo_medio_var13_corto_hace2: double (nullable = true)\n",
      " |-- saldo_medio_var13_corto_hace3: double (nullable = true)\n",
      " |-- saldo_medio_var13_corto_ult1: double (nullable = true)\n",
      " |-- saldo_medio_var13_corto_ult3: double (nullable = true)\n",
      " |-- saldo_medio_var13_largo_hace2: double (nullable = true)\n",
      " |-- saldo_medio_var13_largo_hace3: double (nullable = true)\n",
      " |-- saldo_medio_var13_largo_ult1: double (nullable = true)\n",
      " |-- saldo_medio_var13_largo_ult3: double (nullable = true)\n",
      " |-- saldo_medio_var13_medio_hace2: double (nullable = true)\n",
      " |-- saldo_medio_var13_medio_hace3: integer (nullable = true)\n",
      " |-- saldo_medio_var13_medio_ult1: integer (nullable = true)\n",
      " |-- saldo_medio_var13_medio_ult3: double (nullable = true)\n",
      " |-- saldo_medio_var17_hace2: double (nullable = true)\n",
      " |-- saldo_medio_var17_hace3: double (nullable = true)\n",
      " |-- saldo_medio_var17_ult1: double (nullable = true)\n",
      " |-- saldo_medio_var17_ult3: double (nullable = true)\n",
      " |-- saldo_medio_var29_hace2: double (nullable = true)\n",
      " |-- saldo_medio_var29_hace3: double (nullable = true)\n",
      " |-- saldo_medio_var29_ult1: double (nullable = true)\n",
      " |-- saldo_medio_var29_ult3: double (nullable = true)\n",
      " |-- saldo_medio_var33_hace2: double (nullable = true)\n",
      " |-- saldo_medio_var33_hace3: double (nullable = true)\n",
      " |-- saldo_medio_var33_ult1: double (nullable = true)\n",
      " |-- saldo_medio_var33_ult3: double (nullable = true)\n",
      " |-- saldo_medio_var44_hace2: double (nullable = true)\n",
      " |-- saldo_medio_var44_hace3: double (nullable = true)\n",
      " |-- saldo_medio_var44_ult1: double (nullable = true)\n",
      " |-- saldo_medio_var44_ult3: double (nullable = true)\n",
      " |-- var38: double (nullable = true)\n",
      " |-- TARGET: integer (nullable = true)\n",
      "\n"
     ]
    },
    {
     "name": "stderr",
     "output_type": "stream",
     "text": [
      "                                                                                \r"
     ]
    }
   ],
   "source": [
    "#Training data\n",
    "data = spark.read.csv('/Users/user/Desktop/Data Scientis R Python SQL/Datasets/Santander/train.csv',\n",
    "                     header=True,\n",
    "                     inferSchema=True)\n",
    "\n",
    "data.printSchema()"
   ]
  },
  {
   "cell_type": "markdown",
   "id": "ddc579ec-cc77-4670-90a3-d8e509ed5436",
   "metadata": {},
   "source": [
    "## EDA"
   ]
  },
  {
   "cell_type": "code",
   "execution_count": 6,
   "id": "222c72ba",
   "metadata": {},
   "outputs": [
    {
     "name": "stdout",
     "output_type": "stream",
     "text": [
      " The dataset contains 371 columns and 60816 registers \n"
     ]
    }
   ],
   "source": [
    "print(f' The dataset contains {len(data.columns)} columns and {data.count()} registers ')"
   ]
  },
  {
   "cell_type": "markdown",
   "id": "7ef11949-f735-4143-98ae-3cf9b183f162",
   "metadata": {},
   "source": [
    "Given the data set is already partitioned the column ID is not necessary and will be removed"
   ]
  },
  {
   "cell_type": "code",
   "execution_count": 7,
   "id": "7d6894fc-7690-4cac-a42c-ad8ee9b4ecec",
   "metadata": {},
   "outputs": [],
   "source": [
    "data = data.drop('ID')"
   ]
  },
  {
   "cell_type": "markdown",
   "id": "6597aca7-03c8-456b-bab7-743cac31f1a9",
   "metadata": {},
   "source": [
    "It's important to check if there is any NULL or MISSING value in the dataset"
   ]
  },
  {
   "cell_type": "code",
   "execution_count": 8,
   "id": "735ef1a6",
   "metadata": {},
   "outputs": [
    {
     "name": "stderr",
     "output_type": "stream",
     "text": [
      "                                                                                \r"
     ]
    },
    {
     "name": "stdout",
     "output_type": "stream",
     "text": [
      "There are 0 columns with null values\n"
     ]
    }
   ],
   "source": [
    "null_values = data.select([F.count(F.when(F.col(c).contains('None') | \\\n",
    "                            F.col(c).contains('NULL') | \\\n",
    "                            F.col(c).contains('NaN') | \\\n",
    "                            (F.col(c) == '' ) | \\\n",
    "                            F.col(c).isNull() | \\\n",
    "                            F.isnan(c), c )).alias(c) for c in data.columns])\n",
    "\n",
    "\n",
    "n_null = len(null_values.select([c for c in  null_values.columns if  null_values.collect()[0].asDict()[c]>0]).columns)\n",
    "\n",
    "print(f\"There are {n_null} columns with null values\")"
   ]
  },
  {
   "cell_type": "markdown",
   "id": "76fcf28f",
   "metadata": {},
   "source": [
    "### Duplicated data"
   ]
  },
  {
   "cell_type": "markdown",
   "id": "02b7009d-eff4-4ba0-bffb-95f3bb00394c",
   "metadata": {},
   "source": [
    "The first step to reduce the data dimensions is to remove the duplicated data, if exist:"
   ]
  },
  {
   "cell_type": "code",
   "execution_count": 9,
   "id": "2d701079",
   "metadata": {},
   "outputs": [
    {
     "name": "stderr",
     "output_type": "stream",
     "text": [
      "[Stage 750:=======>                                                 (1 + 7) / 8]\r"
     ]
    },
    {
     "name": "stdout",
     "output_type": "stream",
     "text": [
      " There are 3687 duplicated registers\n"
     ]
    },
    {
     "name": "stderr",
     "output_type": "stream",
     "text": [
      "                                                                                \r"
     ]
    }
   ],
   "source": [
    "print(f' There are {data.count() - data.drop_duplicates().count()} duplicated registers')\n"
   ]
  },
  {
   "cell_type": "markdown",
   "id": "db8de3df-275d-4f35-af6f-9cc50dd3e453",
   "metadata": {},
   "source": [
    "The duplicated data are removed"
   ]
  },
  {
   "cell_type": "code",
   "execution_count": 10,
   "id": "55ac0bb9-38b9-4127-9535-a00684c85a82",
   "metadata": {},
   "outputs": [],
   "source": [
    "data = data.dropDuplicates()"
   ]
  },
  {
   "cell_type": "markdown",
   "id": "3aa1fe6b-3de2-4471-a84e-27d321d6489a",
   "metadata": {},
   "source": [
    "### Unvariant Columns\n",
    "\n",
    "In the next code I will detect any column with null or low variance, given the columns without variance aren't good predictors "
   ]
  },
  {
   "cell_type": "code",
   "execution_count": 11,
   "id": "57352628",
   "metadata": {},
   "outputs": [
    {
     "name": "stderr",
     "output_type": "stream",
     "text": [
      "                                                                                \r"
     ]
    }
   ],
   "source": [
    "# Remove constant variables\n",
    "\n",
    "from pyspark.ml.feature import MinMaxScaler\n",
    "from pyspark.ml.feature import VectorAssembler\n",
    "\n",
    "# Convert data to Vector\n",
    "vectorAssembler = VectorAssembler(inputCols = data.drop('TARGET').columns, outputCol = 'features')\n",
    "data_vector = vectorAssembler.transform(data).select('features','TARGET')\n",
    "\n",
    "# Data Scaled \n",
    "scaler = MinMaxScaler(inputCol = 'features', outputCol = 'features_scaled')\n",
    "scaler_model = scaler.fit(data_vector)\n",
    "\n",
    "data_scaled = scaler_model.transform(data_vector).select('features_scaled','TARGET')"
   ]
  },
  {
   "cell_type": "code",
   "execution_count": 12,
   "id": "b927c53c",
   "metadata": {},
   "outputs": [
    {
     "name": "stderr",
     "output_type": "stream",
     "text": [
      "                                                                                \r"
     ]
    }
   ],
   "source": [
    "from pyspark.ml.feature import VarianceThresholdSelector\n",
    "\n",
    "# The columns from the scaled data with a variance less than 0.001 will be removed\n",
    "selector = VarianceThresholdSelector(featuresCol= 'features_scaled', outputCol = 'features_selected', varianceThreshold = 0.001)\n",
    "\n",
    "selector_model = selector.fit(data_scaled)\n",
    "\n",
    "#And the features selected are stored in the variable features_selected\n",
    "features_selected = data.select(*[data.columns[c] for c in selector_model.selectedFeatures]).columns\n"
   ]
  },
  {
   "cell_type": "code",
   "execution_count": 13,
   "id": "abb8609e-179d-4f35-bb6d-a223c07b4d5c",
   "metadata": {},
   "outputs": [
    {
     "name": "stdout",
     "output_type": "stream",
     "text": [
      " There are 260 unvariant features\n",
      " The current dataset called data_selected contains 110 unvariant geatures\n"
     ]
    }
   ],
   "source": [
    "print(f' There are {len(data.columns)-len(selector_model.selectedFeatures)} unvariant features')\n",
    "print(f' The current dataset called data_selected contains {len(selector_model.selectedFeatures)} unvariant geatures')"
   ]
  },
  {
   "cell_type": "markdown",
   "id": "3632acd1-5333-4db8-9e20-b3fd532e44d6",
   "metadata": {},
   "source": [
    "Now I'am going to delete the unvariant columns from the dataset "
   ]
  },
  {
   "cell_type": "code",
   "execution_count": 14,
   "id": "bc9ad529-0d98-43fb-99fa-dbeb34aa30c4",
   "metadata": {
    "tags": []
   },
   "outputs": [],
   "source": [
    "features_selected.append('TARGET')\n",
    "\n",
    "data_selected = data[features_selected]"
   ]
  },
  {
   "cell_type": "markdown",
   "id": "04e42ff9",
   "metadata": {},
   "source": [
    "### Outliers imputation\n",
    "\n",
    "The outliers could impact severely to the PCA and Logistic Regresion that I'll perform later, so them will be replace with the mode of each feature"
   ]
  },
  {
   "cell_type": "code",
   "execution_count": 15,
   "id": "6de20828",
   "metadata": {
    "tags": []
   },
   "outputs": [
    {
     "name": "stderr",
     "output_type": "stream",
     "text": [
      "                                                                                \r"
     ]
    }
   ],
   "source": [
    "for c in data_selected.drop('TARGET').columns:\n",
    "    \n",
    "    values = outliers_detect(c)\n",
    "    \n",
    "    minimum = values[0]\n",
    "    maximum = values[2]\n",
    "    \n",
    "    median = values[1]\n",
    "    \n",
    "    data_selected = data_selected.withColumn(c,\n",
    "                                             F.when(data_selected[c].between(minimum,maximum),\n",
    "                                                    data_selected[c]).otherwise(F.lit(median)))\n",
    "    "
   ]
  },
  {
   "cell_type": "markdown",
   "id": "469b0025-5e34-43e8-a22a-1fc78a4fd639",
   "metadata": {},
   "source": [
    "It's necessary to convert the dataframe into vector in order to perform the PCA. The data must be scaled"
   ]
  },
  {
   "cell_type": "code",
   "execution_count": 16,
   "id": "e4b41ca2-83cb-4467-8360-b6fc3f7659ba",
   "metadata": {},
   "outputs": [
    {
     "name": "stderr",
     "output_type": "stream",
     "text": [
      "                                                                                \r"
     ]
    }
   ],
   "source": [
    "# Merge features into a Vector\n",
    "vectorAssembler.setInputCols(data_selected.drop('TARGET').columns)\n",
    "data_vector = vectorAssembler.transform(data_selected).select('features','TARGET')\n",
    "\n",
    "# Data Scaled \n",
    "scaler = MinMaxScaler(inputCol = 'features', outputCol = 'features_scaled')\n",
    "scaler_model = scaler.fit(data_vector)\n",
    "\n",
    "data_scaled = scaler_model.transform(data_vector).select('features_scaled','TARGET')\n"
   ]
  },
  {
   "cell_type": "markdown",
   "id": "d2747eaf-6273-4285-a269-aebb62ba791c",
   "metadata": {},
   "source": [
    "The TARGET column is unbalanced, as we can see below:"
   ]
  },
  {
   "cell_type": "code",
   "execution_count": 17,
   "id": "9b4dc501-175b-4e84-ad0f-f5b283979a92",
   "metadata": {},
   "outputs": [
    {
     "name": "stderr",
     "output_type": "stream",
     "text": [
      "[Stage 1202:==============>                                         (2 + 6) / 8]\r"
     ]
    },
    {
     "name": "stdout",
     "output_type": "stream",
     "text": [
      "+------+-----+\n",
      "|TARGET|count|\n",
      "+------+-----+\n",
      "|     0|54866|\n",
      "|     1| 2263|\n",
      "+------+-----+\n",
      "\n"
     ]
    },
    {
     "name": "stderr",
     "output_type": "stream",
     "text": [
      "                                                                                \r"
     ]
    }
   ],
   "source": [
    "data_scaled.select('TARGET').groupby('TARGET').count().show()"
   ]
  },
  {
   "cell_type": "markdown",
   "id": "69102992-2fc2-4dc0-87f8-1009ae1bf787",
   "metadata": {},
   "source": [
    "Therefore, a weight column will be created to deal with it once the models are trained."
   ]
  },
  {
   "cell_type": "code",
   "execution_count": 18,
   "id": "4dfca338-1fd9-40cb-af65-797deff75c29",
   "metadata": {},
   "outputs": [
    {
     "name": "stderr",
     "output_type": "stream",
     "text": [
      "                                                                                \r"
     ]
    }
   ],
   "source": [
    "weigth = data_scaled.filter(F.col('TARGET') == 0).count()/data_scaled.count()\n",
    "\n",
    "data_scaled = data_scaled.withColumn('weigth',F.when(data_scaled['TARGET'] == 0,1-weigth).otherwise(weigth))\n"
   ]
  },
  {
   "cell_type": "markdown",
   "id": "219f0d2f-077c-4653-a96d-bd566656a91b",
   "metadata": {},
   "source": [
    "Now it's time to perform the pca analysis in order to keep reducing the dimension of the training data. For that, it's necessary to pass the dataframe as vector, again."
   ]
  },
  {
   "cell_type": "markdown",
   "id": "6d45adf6-1b3d-4db8-8241-27cf18b79d8a",
   "metadata": {},
   "source": [
    "The goal of the PCA is to reduce the number of columns, capturing most of its variability. I'll perform a pca with 10 components "
   ]
  },
  {
   "cell_type": "code",
   "execution_count": 19,
   "id": "fb6227da",
   "metadata": {},
   "outputs": [
    {
     "name": "stderr",
     "output_type": "stream",
     "text": [
      "                                                                                \r"
     ]
    },
    {
     "data": {
      "text/plain": [
       "Text(0.5, 0, 'Cumulative Explained Variance')"
      ]
     },
     "execution_count": 19,
     "metadata": {},
     "output_type": "execute_result"
    },
    {
     "data": {
      "image/png": "[encoded data removed]",
      "text/plain": [
       "<Figure size 640x480 with 1 Axes>"
      ]
     },
     "metadata": {},
     "output_type": "display_data"
    }
   ],
   "source": [
    "from pyspark.ml.feature import PCA\n",
    "\n",
    "k_num = 10\n",
    "#pca = PCA(k=k_num, inputCol=\"features\", outputCol = 'features_pca')\n",
    "pca = PCA(k=k_num, inputCol=\"features_scaled\", outputCol = 'features_pca')\n",
    "pca_model = pca.fit(data_scaled)\n",
    "\n",
    "\n",
    "import matplotlib.pyplot as plt\n",
    "\n",
    "plt.plot(range(1,k_num+1),pca_model.explainedVariance.values.cumsum(), marker = 'o', linestyle='--')\n",
    "plt.title('Variance By Components')\n",
    "plt.xlabel('Number of Components')\n",
    "plt.xlabel('Cumulative Explained Variance')\n"
   ]
  },
  {
   "cell_type": "code",
   "execution_count": 20,
   "id": "0abb3913",
   "metadata": {},
   "outputs": [
    {
     "data": {
      "text/html": [
       "<div>\n",
       "<style scoped>\n",
       "    .dataframe tbody tr th:only-of-type {\n",
       "        vertical-align: middle;\n",
       "    }\n",
       "\n",
       "    .dataframe tbody tr th {\n",
       "        vertical-align: top;\n",
       "    }\n",
       "\n",
       "    .dataframe thead th {\n",
       "        text-align: right;\n",
       "    }\n",
       "</style>\n",
       "<table border=\"1\" class=\"dataframe\">\n",
       "  <thead>\n",
       "    <tr style=\"text-align: right;\">\n",
       "      <th></th>\n",
       "      <th>k</th>\n",
       "      <th>% of explained variance</th>\n",
       "    </tr>\n",
       "  </thead>\n",
       "  <tbody>\n",
       "    <tr>\n",
       "      <th>0</th>\n",
       "      <td>1</td>\n",
       "      <td>0.5192</td>\n",
       "    </tr>\n",
       "    <tr>\n",
       "      <th>1</th>\n",
       "      <td>2</td>\n",
       "      <td>0.6671</td>\n",
       "    </tr>\n",
       "    <tr>\n",
       "      <th>2</th>\n",
       "      <td>3</td>\n",
       "      <td>0.7644</td>\n",
       "    </tr>\n",
       "    <tr>\n",
       "      <th>3</th>\n",
       "      <td>4</td>\n",
       "      <td>0.8278</td>\n",
       "    </tr>\n",
       "    <tr>\n",
       "      <th>4</th>\n",
       "      <td>5</td>\n",
       "      <td>0.8795</td>\n",
       "    </tr>\n",
       "    <tr>\n",
       "      <th>5</th>\n",
       "      <td>6</td>\n",
       "      <td>0.9283</td>\n",
       "    </tr>\n",
       "    <tr>\n",
       "      <th>6</th>\n",
       "      <td>7</td>\n",
       "      <td>0.9538</td>\n",
       "    </tr>\n",
       "    <tr>\n",
       "      <th>7</th>\n",
       "      <td>8</td>\n",
       "      <td>0.9719</td>\n",
       "    </tr>\n",
       "    <tr>\n",
       "      <th>8</th>\n",
       "      <td>9</td>\n",
       "      <td>0.9870</td>\n",
       "    </tr>\n",
       "    <tr>\n",
       "      <th>9</th>\n",
       "      <td>10</td>\n",
       "      <td>0.9995</td>\n",
       "    </tr>\n",
       "  </tbody>\n",
       "</table>\n",
       "</div>"
      ],
      "text/plain": [
       "    k  % of explained variance\n",
       "0   1                   0.5192\n",
       "1   2                   0.6671\n",
       "2   3                   0.7644\n",
       "3   4                   0.8278\n",
       "4   5                   0.8795\n",
       "5   6                   0.9283\n",
       "6   7                   0.9538\n",
       "7   8                   0.9719\n",
       "8   9                   0.9870\n",
       "9  10                   0.9995"
      ]
     },
     "execution_count": 20,
     "metadata": {},
     "output_type": "execute_result"
    }
   ],
   "source": [
    "import pandas as pd\n",
    "\n",
    "pd.DataFrame({'k':range(1,k_num+1),\n",
    "    '% of explained variance' :pca_model.explainedVariance.cumsum().round(4)})"
   ]
  },
  {
   "cell_type": "markdown",
   "id": "06e4a994-b324-4bcf-b736-78641c70b160",
   "metadata": {},
   "source": [
    "In the above graphic, the rate of explained variance by adding a new component starts to decrease from the component 8. So I'll take 8 components which explain the 94.19% of the variability of the dataset"
   ]
  },
  {
   "cell_type": "markdown",
   "id": "50698ef3",
   "metadata": {},
   "source": [
    "The new dataset with 8 components is called data_pca"
   ]
  },
  {
   "cell_type": "code",
   "execution_count": 21,
   "id": "471ade9b",
   "metadata": {},
   "outputs": [
    {
     "name": "stderr",
     "output_type": "stream",
     "text": [
      "                                                                                \r"
     ]
    }
   ],
   "source": [
    "k_num = 8\n",
    "\n",
    "pca_model = pca.setK(k_num).fit(data_scaled)\n",
    "\n",
    "data_pca = pca_model.transform(data_scaled).select('TARGET','features_pca', 'weigth')"
   ]
  },
  {
   "cell_type": "markdown",
   "id": "329f9168-804d-470e-aac3-24d6458a987b",
   "metadata": {},
   "source": [
    "## Models\n",
    "\n",
    "The dataset is processed and ready to train a machine learning model to predict dissatisfied customers.\n",
    "\n",
    "I will perform two models:\n",
    "- Logistic Regresion \n",
    "- Random Forest\n",
    "\n",
    "The models will be validated through a Cross Validation with 5 folds\n",
    "\n",
    "The metrics to compare the models are:\n",
    "- F1 Score\n",
    "- AUC"
   ]
  },
  {
   "cell_type": "markdown",
   "id": "b582b4b4-bfe4-4f06-9811-294d392ffcf8",
   "metadata": {},
   "source": [
    "### Logistic Regression"
   ]
  },
  {
   "cell_type": "code",
   "execution_count": 22,
   "id": "c64f784a",
   "metadata": {},
   "outputs": [
    {
     "name": "stderr",
     "output_type": "stream",
     "text": [
      "                                                                                \r"
     ]
    }
   ],
   "source": [
    "from pyspark.ml.evaluation import BinaryClassificationEvaluator\n",
    "from pyspark.ml.tuning import CrossValidator, ParamGridBuilder\n",
    "from pyspark.ml.classification import LogisticRegression\n",
    "\n",
    "#Lofistic Regression Model\n",
    "lr_model = LogisticRegression(featuresCol = 'features_pca', labelCol='TARGET', weightCol = 'weigth')\n",
    "\n",
    "#Evaluator\n",
    "modelEvaluator = BinaryClassificationEvaluator(rawPredictionCol='prediction',labelCol='TARGET')\n",
    "\n",
    "#Param Grid\n",
    "lr_paramGrid = ParamGridBuilder().addGrid(lr_model.maxIter, [50])\\\n",
    "                                 .addGrid(lr_model.fitIntercept, [True,False]) \\\n",
    "                                 .build()\n",
    "\n",
    "#Cross Validator\n",
    "lr_crossval = CrossValidator(estimator=lr_model,\n",
    "                          estimatorParamMaps=lr_paramGrid,\n",
    "                          evaluator=modelEvaluator,\n",
    "                          numFolds=5)\n",
    "\n",
    "#Model Training\n",
    "lr_cvModel = lr_crossval.fit(data_pca)"
   ]
  },
  {
   "cell_type": "markdown",
   "id": "904363d0-100f-4a32-b71a-eb39d3b2520d",
   "metadata": {},
   "source": [
    "### Random Forest"
   ]
  },
  {
   "cell_type": "code",
   "execution_count": 23,
   "id": "570c4e03",
   "metadata": {
    "tags": []
   },
   "outputs": [
    {
     "name": "stderr",
     "output_type": "stream",
     "text": [
      "                                                                                \r"
     ]
    }
   ],
   "source": [
    "from pyspark.ml.classification import RandomForestClassifier\n",
    "from pyspark.ml.evaluation import BinaryClassificationEvaluator\n",
    "from pyspark.ml.tuning import CrossValidator, ParamGridBuilder\n",
    "\n",
    "#Random Forest Model\n",
    "rf_model = RandomForestClassifier(featuresCol = 'features_pca',\n",
    "                                  labelCol='TARGET',\n",
    "                                  weightCol = 'weigth', \n",
    "                                  minInstancesPerNode = 20,\n",
    "                                  bootstrap=True,\n",
    "                                  subsamplingRate = 0.85,\n",
    "                                  seed = 1234)\n",
    "\n",
    "#Evaluator\n",
    "modelEvaluator = BinaryClassificationEvaluator(rawPredictionCol='prediction',labelCol='TARGET')\n",
    "\n",
    "#Random Fores Param Grid\n",
    "rf_paramGrid = ParamGridBuilder().addGrid(rf_model.numTrees, [400])\\\n",
    "                                 .addGrid(rf_model.maxDepth, [7])\\\n",
    "                                 .addGrid(rf_model.featureSubsetStrategy, ['sqrt'])\\\n",
    "                                 .build()\n",
    "#Crossvalidator\n",
    "rf_crossval = CrossValidator(estimator=rf_model,\n",
    "                          estimatorParamMaps=rf_paramGrid,\n",
    "                          evaluator=modelEvaluator,\n",
    "                          numFolds=5)\n",
    "\n",
    "#Random Forest Training Model\n",
    "rf_cvModel = rf_crossval.fit(data_pca)"
   ]
  },
  {
   "cell_type": "markdown",
   "id": "62d4c556-d7c0-4ccf-af79-f2f086561eba",
   "metadata": {},
   "source": [
    "### F1 metric for training models"
   ]
  },
  {
   "cell_type": "code",
   "execution_count": 24,
   "id": "a78029e9",
   "metadata": {},
   "outputs": [
    {
     "name": "stderr",
     "output_type": "stream",
     "text": [
      "                                                                                \r"
     ]
    },
    {
     "data": {
      "text/plain": [
       "{'F1 score for Logistic Regression': 0.68, 'F1 score for Random Forest': 0.73}"
      ]
     },
     "execution_count": 24,
     "metadata": {},
     "output_type": "execute_result"
    }
   ],
   "source": [
    "#Logistic Regression best model\n",
    "lr_bestmodel = lr_cvModel.bestModel.summary\n",
    "\n",
    "#Random Forest best model\n",
    "rf_bestmodel = rf_cvModel.bestModel\n",
    "\n",
    "\n",
    "{\"F1 score for Logistic Regression\": round(lr_bestmodel.weightedFMeasure(),2),\n",
    "\"F1 score for Random Forest\": round(rf_bestmodel.summary.weightedFMeasure(),2)}\n"
   ]
  },
  {
   "cell_type": "markdown",
   "id": "c7cf3973-1847-4af1-9520-634e4fb89e7c",
   "metadata": {},
   "source": [
    "### AUC and ROC"
   ]
  },
  {
   "cell_type": "code",
   "execution_count": 25,
   "id": "2ff05678-5198-4437-86ee-c76d2999cb62",
   "metadata": {},
   "outputs": [
    {
     "name": "stderr",
     "output_type": "stream",
     "text": [
      "                                                                                \r"
     ]
    },
    {
     "data": {
      "image/png": "[encoded data removed]",
      "text/plain": [
       "<Figure size 640x480 with 1 Axes>"
      ]
     },
     "metadata": {},
     "output_type": "display_data"
    },
    {
     "name": "stdout",
     "output_type": "stream",
     "text": [
      " Logistic Regression AUC: 0.76 \n",
      " Random Forest AUC: 0.82 \n"
     ]
    }
   ],
   "source": [
    "fpr_lr = lr_cvModel.bestModel.summary.roc.toPandas()['FPR']\n",
    "tpr_lr = lr_cvModel.bestModel.summary.roc.toPandas()['TPR']\n",
    "\n",
    "fpr_rf = rf_cvModel.bestModel.summary.roc.toPandas()['FPR']\n",
    "tpr_rf = rf_cvModel.bestModel.summary.roc.toPandas()['TPR']\n",
    "\n",
    "plt.plot(fpr_lr, tpr_lr, color='red', label='Logistic Regression')\n",
    "plt.plot(fpr_rf, tpr_rf, color='blue', label='Random Forest')\n",
    "plt.plot([0, 1], [0, 1], color='green', linestyle='--')\n",
    "plt.xlabel('False Positive Rate')\n",
    "plt.ylabel('True Positive Rate')\n",
    "plt.title('Receiver Operating Characteristic Curve')\n",
    "plt.legend()\n",
    "plt.show()\n",
    "\n",
    "\n",
    "print(f' Logistic Regression AUC: {round(lr_cvModel.bestModel.summary.areaUnderROC,2)} ')\n",
    "print(f' Random Forest AUC: {round(rf_cvModel.bestModel.summary.areaUnderROC,2)} ')"
   ]
  },
  {
   "cell_type": "markdown",
   "id": "4bef87f8-164f-4acd-8f03-f36e8e48557f",
   "metadata": {},
   "source": [
    "# Test processing\n",
    "\n",
    "Since the training data has been preprocessed, it's time to replicate it in the testing data.\n",
    "\n",
    "First of all, the testing data is splitted in two dataframes. So I'll add an index in both datafreme to join them"
   ]
  },
  {
   "cell_type": "code",
   "execution_count": 26,
   "id": "115ee77f-9be4-4cfe-9c2a-66f29dcc7d66",
   "metadata": {},
   "outputs": [],
   "source": [
    "from pyspark.sql.window import Window\n",
    "\n",
    "#Create an index column in both dataframes\n",
    "test = test.withColumn(\"id\",  F.row_number().over(Window.orderBy(F.monotonically_increasing_id())))\n",
    "test_target = test_target.withColumn(\"id\",  F.row_number().over(Window.orderBy(F.monotonically_increasing_id())))"
   ]
  },
  {
   "cell_type": "code",
   "execution_count": 27,
   "id": "2ae0dd49",
   "metadata": {},
   "outputs": [],
   "source": [
    "#Join the dataframes\n",
    "test = test.join(test_target, test.id ==test_target.id)"
   ]
  },
  {
   "cell_type": "code",
   "execution_count": 28,
   "id": "81c9bf83",
   "metadata": {},
   "outputs": [],
   "source": [
    "#The id Column is no longer needed\n",
    "test = test.drop('id')"
   ]
  },
  {
   "cell_type": "code",
   "execution_count": 29,
   "id": "462cf2c4-2d17-4b62-a3ee-87356a9af713",
   "metadata": {
    "tags": []
   },
   "outputs": [
    {
     "name": "stdout",
     "output_type": "stream",
     "text": [
      " The testing dataframe contains 15204 registers\n"
     ]
    }
   ],
   "source": [
    "print(f' The testing dataframe contains {test.count()} registers')"
   ]
  },
  {
   "cell_type": "markdown",
   "id": "da3515a7-dd8a-44bb-b991-b9d86fd78630",
   "metadata": {},
   "source": [
    "The same data processing on the training data will be applied to the test data."
   ]
  },
  {
   "cell_type": "code",
   "execution_count": 30,
   "id": "a42f3435-54b4-4f62-a3ac-85d7832575bc",
   "metadata": {},
   "outputs": [],
   "source": [
    "from pyspark.sql.types import DoubleType\n",
    "\n",
    "#Delete unvariant columns \n",
    "test = test[features_selected]\n",
    "\n",
    "#Merge the features into a vector\n",
    "test_vector = vectorAssembler.transform(test).select('features','TARGET')\n",
    "\n",
    "#Scale the testing data\n",
    "test_scaled = scaler_model.transform(test_vector).select('features_scaled','TARGET')\n",
    "\n",
    "#Add weigth column\n",
    "test_scaled = test_scaled.withColumn('weigth',F.when(test_scaled['TARGET'] == 0,1-weigth).otherwise(weigth))\n",
    "\n",
    "#Transform testing data into a PCA \n",
    "test_pca = pca_model.transform(test_scaled).select('TARGET','features_pca', 'weigth')\n",
    "\n",
    "#Cast prediction as Double \n",
    "test_pca = test_pca.withColumn(\"TARGET\",F.col('TARGET').cast(DoubleType()))"
   ]
  },
  {
   "cell_type": "markdown",
   "id": "0b87131f-54e5-4cd1-b5a8-6f8b182fd5dc",
   "metadata": {},
   "source": [
    "### Predictions"
   ]
  },
  {
   "cell_type": "code",
   "execution_count": 31,
   "id": "608acceb",
   "metadata": {},
   "outputs": [],
   "source": [
    "#Logistic Regression prediction\n",
    "lr_pred = lr_cvModel.bestModel.transform(test_pca)\n",
    "\n",
    "#Random Forest prediction\n",
    "rf_pred = rf_cvModel.bestModel.transform(test_pca)"
   ]
  },
  {
   "cell_type": "markdown",
   "id": "683c5db9-3b59-4523-ab90-35b29802e7b1",
   "metadata": {},
   "source": [
    "### Evaluation"
   ]
  },
  {
   "cell_type": "code",
   "execution_count": 32,
   "id": "4dea3e3d-7347-4f1f-a9cf-e1d6d63b5011",
   "metadata": {},
   "outputs": [],
   "source": [
    "from pyspark.ml.evaluation import MulticlassClassificationEvaluator\n",
    "\n",
    "evaluator = MulticlassClassificationEvaluator(predictionCol = 'TARGET',labelCol = 'prediction', metricName = 'weightedFMeasure')\n"
   ]
  },
  {
   "cell_type": "markdown",
   "id": "0c4cf3fb-ce14-4541-ae6d-e215e42e4451",
   "metadata": {},
   "source": [
    "### F1 score for testing "
   ]
  },
  {
   "cell_type": "code",
   "execution_count": 33,
   "id": "a7f51cb5-ea49-447d-8d0d-251bb06a1c5f",
   "metadata": {},
   "outputs": [
    {
     "name": "stderr",
     "output_type": "stream",
     "text": [
      "                                                                                \r"
     ]
    },
    {
     "data": {
      "text/plain": [
       "{'Logistic Regression': 0.55, 'Random Forest': 0.79}"
      ]
     },
     "execution_count": 33,
     "metadata": {},
     "output_type": "execute_result"
    }
   ],
   "source": [
    "{ \"Logistic Regression\": round(evaluator.evaluate(lr_pred),2), \n",
    "              \"Random Forest\": round(evaluator.evaluate(rf_pred),2)}"
   ]
  },
  {
   "cell_type": "markdown",
   "id": "6815d8e5-9151-4995-ae52-4c3975161670",
   "metadata": {},
   "source": [
    "# Conclusion"
   ]
  },
  {
   "cell_type": "markdown",
   "id": "4d553a28-c6de-4e77-b7fd-1f737ed78baf",
   "metadata": {},
   "source": [
    "We have reached the stated objective of reducing the number of predictors, starting from 340 and ending with 10 through different techniques in Pyspark. Regarding the models, the Random Forest model resulted with better F1 and AUC metrics than the Logistic Regression, although with not so satisfactory results. It is recommended to continue using different algorithms, such as XGBoost, which is not yet available in Pyspark."
   ]
  },
  {
   "cell_type": "code",
   "execution_count": 34,
   "id": "5f886e2f",
   "metadata": {},
   "outputs": [],
   "source": [
    "sc.stop()\n",
    "spark.stop()"
   ]
  }
 ],
 "metadata": {
  "kernelspec": {
   "display_name": "Python 3 (ipykernel)",
   "language": "python",
   "name": "python3"
  },
  "language_info": {
   "codemirror_mode": {
    "name": "ipython",
    "version": 3
   },
   "file_extension": ".py",
   "mimetype": "text/x-python",
   "name": "python",
   "nbconvert_exporter": "python",
   "pygments_lexer": "ipython3",
   "version": "3.9.13"
  }
 },
 "nbformat": 4,
 "nbformat_minor": 5
}
